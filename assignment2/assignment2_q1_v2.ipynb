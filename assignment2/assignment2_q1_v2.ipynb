{
 "cells": [
  {
   "cell_type": "markdown",
   "metadata": {},
   "source": [
    "**Assignment 2** \n",
    "\n",
    "This assignment requires you to implement image recognition methods. Please understand and use relevant libraries. You are expected to solve both questions.\n",
    "\n",
    "**Data preparation and rules**\n",
    "\n",
    "Please use the images of the MNIST hand-written digits recognition dataset. You may use torchvision.datasets library to obtain the images and splits. You should have 60,000 training images and 10,000 test images. Use test images only to evaluate your model performance.\n"
   ]
  },
  {
   "cell_type": "code",
   "execution_count": 1,
   "metadata": {},
   "outputs": [],
   "source": [
    "import cv2\n",
    "import numpy as np\n",
    "import os\n",
    "import matplotlib.pyplot as plt\n",
    "from sklearn.cluster import KMeans\n",
    "from sklearn.svm import SVC\n",
    "from sklearn.preprocessing import StandardScaler\n",
    "from sklearn.pipeline import make_pipeline\n",
    "from sklearn.model_selection import train_test_split\n"
   ]
  },
  {
   "cell_type": "code",
   "execution_count": 2,
   "metadata": {},
   "outputs": [
    {
     "name": "stderr",
     "output_type": "stream",
     "text": [
      "2024-03-09 20:38:10.968969: I tensorflow/core/platform/cpu_feature_guard.cc:193] This TensorFlow binary is optimized with oneAPI Deep Neural Network Library (oneDNN) to use the following CPU instructions in performance-critical operations:  SSE4.1 SSE4.2 AVX AVX2 AVX_VNNI FMA\n",
      "To enable them in other operations, rebuild TensorFlow with the appropriate compiler flags.\n",
      "2024-03-09 20:38:11.046752: I tensorflow/core/util/port.cc:104] oneDNN custom operations are on. You may see slightly different numerical results due to floating-point round-off errors from different computation orders. To turn them off, set the environment variable `TF_ENABLE_ONEDNN_OPTS=0`.\n"
     ]
    },
    {
     "name": "stdout",
     "output_type": "stream",
     "text": [
      "(60000, 28, 28)\n",
      "(10000, 28, 28)\n"
     ]
    }
   ],
   "source": [
    "from tensorflow.keras.datasets import mnist\n",
    "import cv2\n",
    "import numpy as np\n",
    "\n",
    "(train_images, train_labels), (test_images, test_labels) = mnist.load_data()\n",
    "\n",
    "def preprocess_images(images):\n",
    "    images = images.astype('float32') / 255.0\n",
    "    return images\n",
    "\n",
    "train_images = preprocess_images(train_images)\n",
    "test_images = preprocess_images(test_images)\n",
    "print(train_images.shape)\n",
    "print(test_images.shape)            "
   ]
  },
  {
   "cell_type": "markdown",
   "metadata": {},
   "source": [
    "Q1: SIFT-BoVW-SVM [4 points]\n",
    "\n",
    "1. [2 points] Implement the SIFT detector and descriptor. Compute cluster centers for the Bag-of-Visual-Words approach. Represent the images as histograms (of visual words) and train a linear SVM model for 10-way classification.\n",
    "Note 1: You may want to use libraries such as cv2 (OpenCV) and sklearn (Sci-kit learn) for doing this question. https://scikit-learn.org/stable/modules/svm.html#multi-class-classification may be useful for the SVM.\n",
    "Note 2: Seed random numbers for reproducibility (running the notebook again should give you the same results!)."
   ]
  },
  {
   "cell_type": "code",
   "execution_count": null,
   "metadata": {},
   "outputs": [],
   "source": [
    "from tensorflow.keras.datasets import mnist\n",
    "import cv2\n",
    "import numpy as np\n",
    "from sklearn.svm import SVC\n",
    "from sklearn.metrics import accuracy_score, confusion_matrix\n",
    "\n",
    "\n",
    "(train_images, train_labels), (test_images, test_labels) = mnist.load_data()\n",
    "\n",
    "def preprocess_images(images):\n",
    "    images = images.astype('float32') / 255.0\n",
    "    return images\n",
    "\n",
    "train_images = preprocess_images(train_images)\n",
    "test_images = preprocess_images(test_images)\n",
    "\n",
    "def calc_features(images, sift_params):\n",
    "    sift = cv2.SIFT_create(**sift_params)\n",
    "    features = []\n",
    "    for img in images:\n",
    "        img = np.uint8(img * 255)  # Convert back to OpenCV usable format\n",
    "        _, des = sift.detectAndCompute(img, None)\n",
    "        if des is not None:\n",
    "            features.append(des)\n",
    "    return np.vstack(features) if features else np.empty((0, 128))\n",
    "\n",
    "def perform_kmeans(features, k):\n",
    "    criteria = (cv2.TERM_CRITERIA_EPS + cv2.TERM_CRITERIA_MAX_ITER, 10, 1.0)\n",
    "    _, _, centers = cv2.kmeans(features, k, None, criteria, 10, cv2.KMEANS_RANDOM_CENTERS)\n",
    "    return centers\n",
    "\n",
    "\n",
    "def bag_of_features(features, centers, k):\n",
    "    vec = np.zeros((1, k), dtype=np.float32)\n",
    "    for i in range(features.shape[0]):\n",
    "        diff = np.linalg.norm(np.tile(features[i], (k, 1)) - centers, axis=1)\n",
    "        idx = np.argmin(diff)\n",
    "        vec[0, idx] += 1\n",
    "    return vec\n",
    "\n",
    "def train_and_evaluate(train_images, train_labels, test_images, test_labels, sift_params, k, svm_params):\n",
    "    features = calc_features(train_images, sift_params)\n",
    "    centers = perform_kmeans(features, k)\n",
    "    \n",
    "    def create_feature_vec(img):\n",
    "        des = calc_features([img], sift_params)\n",
    "        if des.size > 0:\n",
    "            return bag_of_features(des, centers, k).flatten()\n",
    "        else:\n",
    "            return np.zeros((k,))\n",
    "\n",
    "    train_vec = np.array([create_feature_vec(img) for img in train_images])\n",
    "    test_vec = np.array([create_feature_vec(img) for img in test_images])\n",
    "    \n",
    "    clf = SVC(**svm_params)\n",
    "    clf.fit(train_vec, train_labels)\n",
    "    \n",
    "    preds = clf.predict(test_vec)\n",
    "    return accuracy_score(test_labels, preds), confusion_matrix(test_labels, preds)\n",
    "\n",
    "\n"
   ]
  },
  {
   "cell_type": "code",
   "execution_count": 1,
   "metadata": {},
   "outputs": [
    {
     "name": "stderr",
     "output_type": "stream",
     "text": [
      "2024-03-09 22:41:54.038653: I tensorflow/core/platform/cpu_feature_guard.cc:193] This TensorFlow binary is optimized with oneAPI Deep Neural Network Library (oneDNN) to use the following CPU instructions in performance-critical operations:  SSE4.1 SSE4.2 AVX AVX2 AVX_VNNI FMA\n",
      "To enable them in other operations, rebuild TensorFlow with the appropriate compiler flags.\n",
      "2024-03-09 22:41:54.071597: I tensorflow/core/util/port.cc:104] oneDNN custom operations are on. You may see slightly different numerical results due to floating-point round-off errors from different computation orders. To turn them off, set the environment variable `TF_ENABLE_ONEDNN_OPTS=0`.\n"
     ]
    },
    {
     "name": "stdout",
     "output_type": "stream",
     "text": [
      "Accuracy: 74.06%\n",
      "Confusion Matrix:\n",
      "[[ 833    6   20    2    0   37   56    9   10    7]\n",
      " [   2 1109    5    0    3    0    2   11    1    2]\n",
      " [  50   27  632   28   29   30   29  159   33   15]\n",
      " [   9    9   66  767   18   82   13   22   14   10]\n",
      " [   1   16   35   14  771   18   19   29   28   51]\n",
      " [  57   15   19   63   19  575   61   46   13   24]\n",
      " [  64   21   36   15    6   53  560   57   17  129]\n",
      " [  11   76  109   11   29   21   31  733    6    1]\n",
      " [  21    3   36   24   33   20   38    6  746   47]\n",
      " [  16   11   14   14   43   38  136   21   36  680]]\n"
     ]
    }
   ],
   "source": [
    "from tensorflow.keras.datasets import mnist\n",
    "import cv2\n",
    "import numpy as np\n",
    "from sklearn.svm import SVC\n",
    "from sklearn.model_selection import train_test_split\n",
    "from sklearn.metrics import accuracy_score, confusion_matrix\n",
    "\n",
    "# Load and preprocess the MNIST dataset\n",
    "(train_images, train_labels), (test_images, test_labels) = mnist.load_data()\n",
    "\n",
    "def preprocess_images(images):\n",
    "    images = images.astype('float32') / 255.0\n",
    "    return images\n",
    "\n",
    "train_images = preprocess_images(train_images)\n",
    "test_images = preprocess_images(test_images)\n",
    "\n",
    "def calc_features(images, thresh):\n",
    "    sift = cv2.SIFT_create(thresh)\n",
    "    features = []\n",
    "    for img in images:\n",
    "        img = np.uint8(img * 255)  # Convert back to OpenCV usable format\n",
    "        _, des = sift.detectAndCompute(img, None)\n",
    "        if des is not None:\n",
    "            features.append(des)\n",
    "    return np.vstack(features) if features else np.empty((0, 128))  # Assuming SIFT descriptors have a length of 128\n",
    "\n",
    "\n",
    "def perform_kmeans(features, k):\n",
    "    criteria = (cv2.TERM_CRITERIA_EPS + cv2.TERM_CRITERIA_MAX_ITER, 10, 1.0)\n",
    "    _, _, centers = cv2.kmeans(features, k, None, criteria, 10, cv2.KMEANS_RANDOM_CENTERS)\n",
    "    return centers\n",
    "\n",
    "def bag_of_features(features, centers, k):\n",
    "    vec = np.zeros((1, k), dtype=np.float32)\n",
    "    for i in range(features.shape[0]):\n",
    "        diff = np.linalg.norm(np.tile(features[i], (k, 1)) - centers, axis=1)\n",
    "        idx = np.argmin(diff)\n",
    "        vec[0, idx] += 1\n",
    "    return vec\n",
    "\n",
    "def train_and_evaluate(train_images, train_labels, test_images, test_labels, thresh, k):\n",
    "    features = calc_features(train_images, thresh)\n",
    "    centers = perform_kmeans(features, k)\n",
    "    \n",
    "    def create_feature_vec(img):\n",
    "        des = calc_features([img], thresh)\n",
    "        if des.size > 0:  # Changed from None check to size check\n",
    "            return bag_of_features(des, centers, k).flatten()\n",
    "        else:\n",
    "            return np.zeros((k,))  # Return a zero vector if no features are detected\n",
    "\n",
    "    # Convert training and testing images to feature vectors\n",
    "    train_vec = np.array([create_feature_vec(img).flatten() for img in train_images])\n",
    "    test_vec = np.array([create_feature_vec(img).flatten() for img in test_images])\n",
    "\n",
    "    # Check the shape of the feature vectors\n",
    "    assert train_vec.ndim == 2, \"train_vec is not a 2D array\"\n",
    "    assert test_vec.ndim == 2, \"test_vec is not a 2D array\"\n",
    "\n",
    "    # Train SVM\n",
    "    clf = SVC(kernel='linear', probability=True)\n",
    "    clf.fit(train_vec, train_labels)\n",
    "    \n",
    "    # Evaluate\n",
    "    preds = clf.predict(test_vec)\n",
    "    return accuracy_score(test_labels, preds), confusion_matrix(test_labels, preds)\n",
    "\n",
    "thresh = 10  # SIFT feature threshold\n",
    "k = 150  # Number of clusters for KMeans\n",
    "accuracy, conf_mat = train_and_evaluate(train_images, train_labels, test_images, test_labels, thresh, k)\n",
    "\n",
    "print(f'Accuracy: {accuracy*100:.2f}%')\n",
    "print('Confusion Matrix:')\n",
    "print(conf_mat)\n"
   ]
  },
  {
   "cell_type": "markdown",
   "metadata": {},
   "source": [
    "2. [1 point] Keeping everything else constant, plot how classification accuracy changes as you sweep across 6 different values for the number of clusters. Please decide what numbers are meaningful for this question. Explain the trends in classification accuracy that you observe.\n",
    "Note 1: It is recommended to try hyperparameters in logarithmic steps such as 2x or 3x multiples. An example of 2x multiples is: 1, 2, 5, 10, 20, ... An example of 3x multiples is: 1, 3, 10, 30, 100, ...\n"
   ]
  },
  {
   "cell_type": "code",
   "execution_count": 3,
   "metadata": {},
   "outputs": [
    {
     "name": "stdout",
     "output_type": "stream",
     "text": [
      "Evaluating for k = 10\n"
     ]
    },
    {
     "name": "stdout",
     "output_type": "stream",
     "text": [
      "Accuracy for k = 10: 42.17%\n",
      "Evaluating for k = 30\n",
      "Accuracy for k = 30: 57.41%\n",
      "Evaluating for k = 100\n",
      "Accuracy for k = 100: 70.80%\n",
      "Evaluating for k = 300\n",
      "Accuracy for k = 300: 79.23%\n"
     ]
    },
    {
     "data": {
      "image/png": "[encoded data removed]",
      "text/plain": [
       "<Figure size 1000x600 with 1 Axes>"
      ]
     },
     "metadata": {},
     "output_type": "display_data"
    }
   ],
   "source": [
    "cluster_counts = [10, 30, 100, 300]\n",
    "# cluster_counts = [10, 30, 100, 300, 1000, 3000]\n",
    "\n",
    "accuracies = []\n",
    "\n",
    "for k in cluster_counts:\n",
    "    print(f\"Evaluating for k = {k}\")\n",
    "    accuracy, _ = train_and_evaluate(train_images, train_labels, test_images, test_labels, thresh, k)\n",
    "    accuracies.append(accuracy)\n",
    "    print(f\"Accuracy for k = {k}: {accuracy*100:.2f}%\")\n",
    "\n",
    "import matplotlib.pyplot as plt\n",
    "\n",
    "plt.figure(figsize=(10, 6))\n",
    "plt.plot(cluster_counts, accuracies, marker='o', linestyle='-', color='b')\n",
    "plt.title(\"Classification Accuracy vs Number of Clusters\")\n",
    "plt.xlabel(\"Number of Clusters\")\n",
    "plt.ylabel(\"Classification Accuracy\")\n",
    "plt.xscale(\"log\")  # Because we're using a logarithmic scale for cluster counts\n",
    "plt.grid(True, which=\"both\", ls=\"--\")\n",
    "plt.show()\n"
   ]
  },
  {
   "cell_type": "markdown",
   "metadata": {},
   "source": [
    "3. [1 point] Show the results for 6 different hyperparameter settings. You may play with the SIFT detector or descriptor and the linear SVM. Keep the number of clusters constant based on the answer to the previous question. Explain the trends in classification accuracy that you observe."
   ]
  },
  {
   "cell_type": "code",
   "execution_count": 3,
   "metadata": {},
   "outputs": [
    {
     "name": "stdout",
     "output_type": "stream",
     "text": [
      "SIFT Params: {'nfeatures': 500}, SVM Params: {'kernel': 'linear', 'C': 1}, Accuracy: 75.11%\n",
      "SIFT Params: {'nfeatures': 500}, SVM Params: {'kernel': 'linear', 'C': 0.1}, Accuracy: 74.40%\n",
      "SIFT Params: {'nfeatures': 500}, SVM Params: {'kernel': 'rbf', 'C': 1, 'gamma': 'scale'}, Accuracy: 78.46%\n",
      "SIFT Params: {'nfeatures': 500}, SVM Params: {'kernel': 'rbf', 'C': 0.1, 'gamma': 'scale'}, Accuracy: 74.28%\n",
      "SIFT Params: {'nfeatures': 1000}, SVM Params: {'kernel': 'linear', 'C': 1}, Accuracy: 77.00%\n",
      "SIFT Params: {'nfeatures': 1000}, SVM Params: {'kernel': 'linear', 'C': 0.1}, Accuracy: 76.71%\n",
      "SIFT Params: {'nfeatures': 1000}, SVM Params: {'kernel': 'rbf', 'C': 1, 'gamma': 'scale'}, Accuracy: 77.80%\n",
      "SIFT Params: {'nfeatures': 1000}, SVM Params: {'kernel': 'rbf', 'C': 0.1, 'gamma': 'scale'}, Accuracy: 74.16%\n",
      "SIFT Params: {'contrastThreshold': 0.04}, SVM Params: {'kernel': 'linear', 'C': 1}, Accuracy: 75.51%\n",
      "SIFT Params: {'contrastThreshold': 0.04}, SVM Params: {'kernel': 'linear', 'C': 0.1}, Accuracy: 75.36%\n",
      "SIFT Params: {'contrastThreshold': 0.04}, SVM Params: {'kernel': 'rbf', 'C': 1, 'gamma': 'scale'}, Accuracy: 77.33%\n",
      "SIFT Params: {'contrastThreshold': 0.04}, SVM Params: {'kernel': 'rbf', 'C': 0.1, 'gamma': 'scale'}, Accuracy: 74.78%\n",
      "SIFT Params: {'edgeThreshold': 10}, SVM Params: {'kernel': 'linear', 'C': 1}, Accuracy: 76.30%\n",
      "SIFT Params: {'edgeThreshold': 10}, SVM Params: {'kernel': 'linear', 'C': 0.1}, Accuracy: 76.44%\n",
      "SIFT Params: {'edgeThreshold': 10}, SVM Params: {'kernel': 'rbf', 'C': 1, 'gamma': 'scale'}, Accuracy: 76.81%\n",
      "SIFT Params: {'edgeThreshold': 10}, SVM Params: {'kernel': 'rbf', 'C': 0.1, 'gamma': 'scale'}, Accuracy: 75.57%\n"
     ]
    }
   ],
   "source": [
    "sift_features = [{'nfeatures': 500}, {'nfeatures': 1000}, {'contrastThreshold': 0.04}, {'edgeThreshold': 10}]\n",
    "svm_features = [{'kernel': 'linear', 'C': 1}, {'kernel': 'linear', 'C': 0.1}, {'kernel': 'rbf', 'C': 1, 'gamma': 'scale'}, {'kernel': 'rbf', 'C': 0.1, 'gamma': 'scale'}]\n",
    "\n",
    "k = 150  \n",
    "\n",
    "for sift_params in sift_features:\n",
    "    for svm_params in svm_features:\n",
    "        accuracy, conf_mat = train_and_evaluate(train_images, train_labels, test_images, test_labels, sift_params, k, svm_params)\n",
    "        print(f'SIFT Params: {sift_params}, SVM Params: {svm_params}, Accuracy: {accuracy*100:.2f}%')\n"
   ]
  },
  {
   "cell_type": "markdown",
   "metadata": {},
   "source": [
    "| SIFT Params                   | SVM Params                               | Accuracy |\n",
    "|-------------------------------|------------------------------------------|----------|\n",
    "| `{'nfeatures': 500}`          | `{'kernel': 'linear', 'C': 1}`           | 75.11%   |\n",
    "| `{'nfeatures': 500}`          | `{'kernel': 'linear', 'C': 0.1}`         | 74.40%   |\n",
    "| `{'nfeatures': 500}`          | `{'kernel': 'rbf', 'C': 1, 'gamma': 'scale'}` | 78.46%   |\n",
    "| `{'nfeatures': 500}`          | `{'kernel': 'rbf', 'C': 0.1, 'gamma': 'scale'}` | 74.28%   |\n",
    "| `{'nfeatures': 1000}`         | `{'kernel': 'linear', 'C': 1}`           | 77.00%   |\n",
    "| `{'nfeatures': 1000}`         | `{'kernel': 'linear', 'C': 0.1}`         | 76.71%   |\n",
    "| `{'nfeatures': 1000}`         | `{'kernel': 'rbf', 'C': 1, 'gamma': 'scale'}` | 77.80%   |\n",
    "| `{'nfeatures': 1000}`         | `{'kernel': 'rbf', 'C': 0.1, 'gamma': 'scale'}` | 74.16%   |\n",
    "| `{'contrastThreshold': 0.04}` | `{'kernel': 'linear', 'C': 1}`           | 75.51%   |\n",
    "| `{'contrastThreshold': 0.04}` | `{'kernel': 'linear', 'C': 0.1}`         | 75.36%   |\n",
    "| `{'contrastThreshold': 0.04}` | `{'kernel': 'rbf', 'C': 1, 'gamma': 'scale'}` | 77.33%   |\n",
    "| `{'contrastThreshold': 0.04}` | `{'kernel': 'rbf', 'C': 0.1, 'gamma': 'scale'}` | 74.78%   |\n",
    "| `{'edgeThreshold': 10}`       | `{'kernel': 'linear', 'C': 1}`           | 76.30%   |\n",
    "| `{'edgeThreshold': 10}`       | `{'kernel': 'linear', 'C': 0.1}`         | 76.44%   |\n",
    "| `{'edgeThreshold': 10}`       | `{'kernel': 'rbf', 'C': 1, 'gamma': 'scale'}` | 76.81%   |\n",
    "| `{'edgeThreshold': 10}`       | `{'kernel': 'rbf', 'C': 0.1, 'gamma': 'scale'}` | 75.57%   |\n"
   ]
  },
  {
   "cell_type": "markdown",
   "metadata": {},
   "source": [
    "Problem:\n",
    "Learning to use SIFT discriptors to perform image classification using Bag of Visual words representation andd SVM classifier. \n",
    "\n",
    "Challenges:\n",
    "1. Creating a modular and vectorized pipeline\n",
    "2. properly initialising the kmeeans algorithm\n",
    "3. tuning parameters of the SVM\n",
    "\n",
    "Learning\n",
    "1. Image classification using manual method\n",
    "2. How to tune parameters of manual methods to get the most optimal parameters\n",
    "\n"
   ]
  }
 ],
 "metadata": {
  "kernelspec": {
   "display_name": "Tmp",
   "language": "python",
   "name": "python3"
  },
  "language_info": {
   "codemirror_mode": {
    "name": "ipython",
    "version": 3
   },
   "file_extension": ".py",
   "mimetype": "text/x-python",
   "name": "python",
   "nbconvert_exporter": "python",
   "pygments_lexer": "ipython3",
   "version": "3.8.18"
  }
 },
 "nbformat": 4,
 "nbformat_minor": 2
}
